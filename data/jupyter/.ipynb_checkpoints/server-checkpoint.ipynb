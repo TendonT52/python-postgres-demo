{
 "cells": [
  {
   "cell_type": "code",
   "execution_count": null,
   "id": "d2db5f12-c47c-4028-b2dd-dad3d933e726",
   "metadata": {},
   "outputs": [],
   "source": [
    "%pip install psycopg2-binary"
   ]
  },
  {
   "cell_type": "code",
   "execution_count": null,
   "id": "2e3a6016-2cf7-4cc5-a19a-682c924ba460",
   "metadata": {},
   "outputs": [],
   "source": [
    "import psycopg2"
   ]
  },
  {
   "cell_type": "code",
   "execution_count": null,
   "id": "a508f997-02e2-4bb4-82ec-d9bb596146c6",
   "metadata": {},
   "outputs": [],
   "source": [
    "conn = psycopg2.connect(host=\"db\", dbname=\"test_db\", user=\"root\", password=\"root\", port=5432)"
   ]
  },
  {
   "cell_type": "code",
   "execution_count": null,
   "id": "afba26e8-f893-4b9b-93e1-af5d053b44ab",
   "metadata": {},
   "outputs": [],
   "source": [
    "cur = conn.cursor()"
   ]
  },
  {
   "cell_type": "code",
   "execution_count": null,
   "id": "55b725db-6c2f-4b15-902e-14828554a84d",
   "metadata": {
    "jupyter": {
     "source_hidden": true
    }
   },
   "outputs": [],
   "source": [
    "\"\"\"\n",
    "This will drop all the tables for teaching purposes only. \n",
    "It allows you to run this notebook multiple times without worrying about the previous stage of the database. \n",
    "You can assume that every time you run this notebook, you will have a clean, fresh database.\n",
    "\"\"\"\n",
    "def DropAllTable():\n",
    "    cur.execute(\"\"\"\n",
    "        SELECT table_name FROM information_schema.tables\n",
    "        WHERE table_schema = 'public'\n",
    "    \"\"\")\n",
    "    for table in cur.fetchall():\n",
    "        cur.execute(\"DROP TABLE \" + table[0] + \" CASCADE;\")\n",
    "    conn.commit()\n",
    "DropAllTable()"
   ]
  },
  {
   "cell_type": "code",
   "execution_count": null,
   "id": "e82339a9-33da-48fa-ab5c-1d1de5c5f216",
   "metadata": {},
   "outputs": [],
   "source": [
    "cur.execute(\"\"\"\n",
    "    CREATE TABLE Users (\n",
    "    email TEXT PRIMARY KEY,\n",
    "    name TEXT NOT NULL\n",
    ");\n",
    "\"\"\") # Starts a transaction and executes the CREATE\n",
    "conn.commit()  # Commits the transaction, writing the changes to the database"
   ]
  },
  {
   "cell_type": "code",
   "execution_count": null,
   "id": "adca432e-82d6-4249-bf78-77fbac7992b3",
   "metadata": {},
   "outputs": [],
   "source": [
    "cur.execute(\"\"\"\n",
    "    INSERT INTO Users (name, email) VALUES \n",
    "    ('John Doe', 'john@example.com'),\n",
    "    ('Jane Doe', 'jane@example.com'),\n",
    "    ('Bill Smith', 'bill@example.com')\n",
    "\"\"\") # Starts a transaction and executes the INSERT\n",
    "conn.commit() # Commits the transaction, writing the changes to the database"
   ]
  },
  {
   "cell_type": "code",
   "execution_count": null,
   "id": "61bc2a97-4183-4ac9-9278-5a6d00aadbe6",
   "metadata": {},
   "outputs": [],
   "source": [
    "cur.execute(\"SELECT * FROM Users\") # SELECT statement doesn't modify data - it only reads or fetches data. So, there's nothing to commit after a ﻿SELECT statement.\n",
    "row = cur.fetchone()\n",
    "\n",
    "# Fetch one rows from the result set\n",
    "while row is not None:\n",
    "    print(row)\n",
    "    row = cur.fetchone()"
   ]
  },
  {
   "cell_type": "code",
   "execution_count": null,
   "id": "a63632ff-77aa-49d1-b899-f53b35343e81",
   "metadata": {},
   "outputs": [],
   "source": [
    "cur.execute(\"SELECT * FROM Users\")\n",
    "# Fetch all rows from the result set\n",
    "cur.fetchall()"
   ]
  },
  {
   "cell_type": "code",
   "execution_count": null,
   "id": "0ec2e164-e618-4d8b-91f4-ae0b26fac949",
   "metadata": {},
   "outputs": [],
   "source": [
    "def getAllUser():\n",
    "    cur.execute(\"SELECT * FROM Users\")\n",
    "    return cur.fetchall()"
   ]
  },
  {
   "cell_type": "code",
   "execution_count": null,
   "id": "a9a77f07-76a6-41d5-bb05-043c866195b6",
   "metadata": {},
   "outputs": [],
   "source": [
    "getAllUser()"
   ]
  },
  {
   "cell_type": "code",
   "execution_count": null,
   "id": "9cd6f8b9-95a8-42a5-b1dd-bad7f90717af",
   "metadata": {},
   "outputs": [],
   "source": [
    "def getUserByemail(email):\n",
    "    cur.execute(\"SELECT * FROM Users WHERE email = %s\", (email,))\n",
    "    return cur.fetchone()"
   ]
  },
  {
   "cell_type": "code",
   "execution_count": null,
   "id": "820351df-4cb8-4096-a59f-a152362d036d",
   "metadata": {},
   "outputs": [],
   "source": [
    "getUserByemail(\"jane@example.com\")"
   ]
  },
  {
   "cell_type": "code",
   "execution_count": null,
   "id": "e375d1c6-763b-4259-9696-f7a9eddcd56d",
   "metadata": {},
   "outputs": [],
   "source": [
    "def createUser(name, email):\n",
    "    cur.execute(\"\"\"\n",
    "         INSERT INTO Users (name, email) \n",
    "         VALUES (%s, %s)\n",
    "         \"\"\",\n",
    "         (name, email)\n",
    "    )\n",
    "    conn.commit()"
   ]
  },
  {
   "cell_type": "code",
   "execution_count": null,
   "id": "ebae25da-e3d7-4c55-8eab-b6334045490c",
   "metadata": {},
   "outputs": [],
   "source": [
    "createUser(\"testFunction\", \"test@test.com\")"
   ]
  },
  {
   "cell_type": "markdown",
   "id": "3e4312e2-5965-47b7-a5e9-49f419fbbc6d",
   "metadata": {},
   "source": [
    "## Excercie\n",
    "- Create a function deleteUser(email)\n",
    "- Create a function updateUserByEmail(email, name)"
   ]
  },
  {
   "cell_type": "markdown",
   "id": "095b543a-719b-488f-b31f-11034a965b00",
   "metadata": {},
   "source": [
    "# Refacter code "
   ]
  },
  {
   "cell_type": "code",
   "execution_count": null,
   "id": "bdda6bdc-0131-4370-8eaf-3317deec5d7c",
   "metadata": {},
   "outputs": [],
   "source": [
    "class User():\n",
    "    def __init__(self, conn):\n",
    "        self.conn = conn\n",
    "        self.cur = conn.cursor()\n",
    " \n",
    "    def getAllUser(self):\n",
    "        self.cur.execute(\"SELECT * FROM Users\")\n",
    "        return self.cur.fetchall()\n",
    "        \n",
    "    def createUser(self, name, email):\n",
    "        self.cur.execute(\"\"\"\n",
    "             INSERT INTO Users (name, email) \n",
    "             VALUES (%s, %s)\n",
    "             \"\"\",\n",
    "             (name, email)\n",
    "        )\n",
    "        self.conn.commit()\n"
   ]
  },
  {
   "cell_type": "code",
   "execution_count": null,
   "id": "661eec40-788e-4b65-ac84-bb230845059b",
   "metadata": {},
   "outputs": [],
   "source": [
    "user = User(conn)"
   ]
  },
  {
   "cell_type": "code",
   "execution_count": null,
   "id": "5c2982e9-1ccf-40ea-b633-329db31ac1b9",
   "metadata": {},
   "outputs": [],
   "source": [
    "user.getAllUser()"
   ]
  },
  {
   "cell_type": "code",
   "execution_count": null,
   "id": "f6a2a201-1948-45b6-a0bc-051ef4d62163",
   "metadata": {},
   "outputs": [],
   "source": [
    "user.createUser(\"nameFromClass\", \"email@class.com\")"
   ]
  },
  {
   "cell_type": "code",
   "execution_count": null,
   "id": "68b3b26a-233c-492f-9b49-102406cbbd38",
   "metadata": {},
   "outputs": [],
   "source": [
    "user.getAllUser()"
   ]
  },
  {
   "cell_type": "markdown",
   "id": "a64c99d4-d889-475b-aa96-9df636c85c04",
   "metadata": {},
   "source": [
    "### Add a deleteUser(email) method\n",
    "### Add a updateUserByEmail(email, name) method"
   ]
  },
  {
   "cell_type": "markdown",
   "id": "53d30017-5e92-4f1c-9c96-dae386a2ff6a",
   "metadata": {},
   "source": [
    "# Get to know JSON format\n",
    "    In short json is just like dict in python but in form of string encode"
   ]
  },
  {
   "cell_type": "code",
   "execution_count": null,
   "id": "58d24937-8ea3-484f-98ab-4bda1c49787e",
   "metadata": {},
   "outputs": [],
   "source": [
    "json_data = \"\"\"\n",
    "{\n",
    "    \"name\": \"Tendon\",\n",
    "    \"email\": \"tendon@example.com\"\n",
    "}\n",
    "\"\"\"\n",
    "map_data = json.loads(json_data)\n",
    "print(type(map_data), map_data) # This is dict in python"
   ]
  },
  {
   "cell_type": "code",
   "execution_count": null,
   "id": "ad115e45-8056-4fff-817c-e8827cec872a",
   "metadata": {},
   "outputs": [],
   "source": [
    "def covert2JSON(users):\n",
    "    if isinstance(users, tuple):\n",
    "        return {\n",
    "            \"email\": users[0],\n",
    "            \"name\": users[1],\n",
    "        }\n",
    "    json = []\n",
    "    for user in users:\n",
    "        user_map = {\n",
    "            \"email\": user[0],\n",
    "            \"name\": user[1],\n",
    "        }\n",
    "        json.append(user_map)\n",
    "\n",
    "    return json"
   ]
  },
  {
   "cell_type": "code",
   "execution_count": null,
   "id": "d80c58e0-5684-4c9a-bdc1-a0eeff7522fd",
   "metadata": {},
   "outputs": [],
   "source": [
    "covert2JSON(getAllUser())"
   ]
  },
  {
   "cell_type": "code",
   "execution_count": null,
   "id": "fb481a68-a624-4a2b-b85c-05250eaaea47",
   "metadata": {},
   "outputs": [],
   "source": [
    "covert2JSON(getUserByemail('jane@example.com'))"
   ]
  },
  {
   "cell_type": "markdown",
   "id": "f46ed878-78e9-434d-ab0f-6923924b5a8e",
   "metadata": {},
   "source": [
    "# Create HTTP server"
   ]
  },
  {
   "cell_type": "code",
   "execution_count": null,
   "id": "060eb144-5b8b-41f6-92c1-c8d61e992923",
   "metadata": {},
   "outputs": [],
   "source": [
    "from http.server import BaseHTTPRequestHandler, HTTPServer\n",
    "import json"
   ]
  },
  {
   "cell_type": "code",
   "execution_count": null,
   "id": "c9288d8d-790a-42fe-a035-57ade5bf185d",
   "metadata": {},
   "outputs": [],
   "source": [
    "class Handler(BaseHTTPRequestHandler):\n",
    "\n",
    "    def do_GET(self):\n",
    "        if self.path == '/users':\n",
    "            users = getAllUser()\n",
    "            \n",
    "            self.send_response(200)\n",
    "            self.send_header('Content-type', 'application/json')\n",
    "            self.end_headers()\n",
    "            self.wfile.write(json.dumps(users).encode())"
   ]
  },
  {
   "cell_type": "code",
   "execution_count": null,
   "id": "1ae9e94d-cead-4b74-b7cc-a217334fcd8a",
   "metadata": {},
   "outputs": [],
   "source": [
    "# httpd = HTTPServer(('0.0.0.0', 8000), SimpleHandler)\n",
    "# httpd.serve_forever()"
   ]
  },
  {
   "cell_type": "code",
   "execution_count": null,
   "id": "bc07a9ff-4ae6-4782-89be-2a26aea3ee7e",
   "metadata": {},
   "outputs": [],
   "source": [
    "class Handler(BaseHTTPRequestHandler):\n",
    "\n",
    "    def do_GET(self):\n",
    "        if self.path == '/users':\n",
    "            users = getAllUser()\n",
    "            \n",
    "            self.send_response(200)\n",
    "            self.send_header('Content-type', 'application/json')\n",
    "            self.end_headers()\n",
    "            self.wfile.write(covert2JSON(users))\n",
    "            \n",
    "    def do_POST(self):\n",
    "        if self.path == '/users':\n",
    "            content_length = int(self.headers['Content-Length']) \n",
    "            post_data = self.rfile.read(content_length)\n",
    "            data = json.loads(post_data)\n",
    "\n",
    "            createUser(data['name'], data['email'])\n",
    "            user = getUserByemail(data['email'])\n",
    "            \n",
    "            self.send_response(201)\n",
    "            self.send_header('Content-type', 'application/json')\n",
    "            self.end_headers()\n",
    "            self.wfile.write(json.dumps(user).encode())\n",
    "            \n",
    "    def do_DELETE(self):\n",
    "        # TODO\n",
    "        pass \n",
    "    \n",
    "    def do_PUT(self):\n",
    "        # TODO\n",
    "        pass"
   ]
  },
  {
   "cell_type": "code",
   "execution_count": null,
   "id": "81f5319a-defc-4d86-a6ac-6113d373b20a",
   "metadata": {},
   "outputs": [],
   "source": [
    "httpd = HTTPServer(('0.0.0.0', 8000), Handler)\n",
    "httpd.serve_forever()"
   ]
  }
 ],
 "metadata": {
  "kernelspec": {
   "display_name": "Python 3 (ipykernel)",
   "language": "python",
   "name": "python3"
  },
  "language_info": {
   "codemirror_mode": {
    "name": "ipython",
    "version": 3
   },
   "file_extension": ".py",
   "mimetype": "text/x-python",
   "name": "python",
   "nbconvert_exporter": "python",
   "pygments_lexer": "ipython3",
   "version": "3.11.6"
  }
 },
 "nbformat": 4,
 "nbformat_minor": 5
}
