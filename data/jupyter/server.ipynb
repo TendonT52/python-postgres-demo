{
 "cells": [
  {
   "cell_type": "code",
   "execution_count": 1,
   "id": "d2db5f12-c47c-4028-b2dd-dad3d933e726",
   "metadata": {},
   "outputs": [
    {
     "name": "stdout",
     "output_type": "stream",
     "text": [
      "Requirement already satisfied: psycopg2-binary in /opt/conda/lib/python3.11/site-packages (2.9.9)\n",
      "Note: you may need to restart the kernel to use updated packages.\n"
     ]
    }
   ],
   "source": [
    "%pip install psycopg2-binary"
   ]
  },
  {
   "cell_type": "markdown",
   "id": "abd16937-d607-4d9a-8fda-0e6a588a7ff9",
   "metadata": {},
   "source": [
    "# How to use python to connect postgres"
   ]
  },
  {
   "cell_type": "code",
   "execution_count": 2,
   "id": "2e3a6016-2cf7-4cc5-a19a-682c924ba460",
   "metadata": {},
   "outputs": [],
   "source": [
    "# psycopg2 is a PostgreSQL database adapter for Python. It enables your Python programs to communicate with the PostgreSQL database engine.\n",
    "import psycopg2"
   ]
  },
  {
   "cell_type": "code",
   "execution_count": 3,
   "id": "a508f997-02e2-4bb4-82ec-d9bb596146c6",
   "metadata": {},
   "outputs": [
    {
     "name": "stdout",
     "output_type": "stream",
     "text": [
      "Successfully connected to the database!\n"
     ]
    }
   ],
   "source": [
    "# Establish a connection to the PostgreSQL server\n",
    "conn = psycopg2.connect(\n",
    "        host=\"db\",        # The hostname of your PostgreSQL server\n",
    "        dbname=\"test_db\", # The name of the database you want to connect to\n",
    "        user=\"root\",      # The username that you have set up for the database\n",
    "        password=\"root\",  # The password for your user\n",
    "        port=5432         # Port number which PostgreSQL server is listening on\n",
    "    )\n",
    "print(\"Successfully connected to the database!\")"
   ]
  },
  {
   "cell_type": "code",
   "execution_count": 4,
   "id": "afba26e8-f893-4b9b-93e1-af5d053b44ab",
   "metadata": {},
   "outputs": [],
   "source": [
    "# Instantiate a new cursor object from the connection\n",
    "# The cursor allows you to execute PostgreSQL command through Python code\n",
    "cur = conn.cursor()"
   ]
  },
  {
   "cell_type": "code",
   "execution_count": 5,
   "id": "55b725db-6c2f-4b15-902e-14828554a84d",
   "metadata": {
    "jupyter": {
     "source_hidden": true
    }
   },
   "outputs": [],
   "source": [
    "\"\"\"\n",
    "This will drop all the tables for teaching purposes only. \n",
    "It allows you to run this notebook multiple times without worrying about the previous stage of the database. \n",
    "You can assume that every time you run this notebook, you will have a clean, fresh database.\n",
    "\"\"\"\n",
    "def DropAllTable():\n",
    "    cur.execute(\"\"\"\n",
    "        SELECT table_name FROM information_schema.tables\n",
    "        WHERE table_schema = 'public'\n",
    "    \"\"\")\n",
    "    for table in cur.fetchall():\n",
    "        cur.execute(\"DROP TABLE \" + table[0] + \" CASCADE;\")\n",
    "    conn.commit()\n",
    "DropAllTable()"
   ]
  },
  {
   "cell_type": "markdown",
   "id": "8f8a95fc-7421-4db9-a7f3-ec026fae68d8",
   "metadata": {},
   "source": [
    "## Execute SQL in python"
   ]
  },
  {
   "cell_type": "code",
   "execution_count": 6,
   "id": "e82339a9-33da-48fa-ab5c-1d1de5c5f216",
   "metadata": {},
   "outputs": [],
   "source": [
    "# Using the cursor object previously created\n",
    "cur.execute(\"\"\"\n",
    "    CREATE TABLE Users (\n",
    "        email TEXT PRIMARY KEY,\n",
    "        name TEXT NOT NULL\n",
    "    );\n",
    "\"\"\") \n",
    "# The SQL command will start a transaction and will execute the CREATE statement.\n",
    "# It creates a new table named 'Users' with 'email' and 'name' fields\n",
    "\n",
    "conn.commit()  \n",
    "# The 'commit' command will confirm the transaction, saving the changes to the database.\n",
    "# It's important to call 'commit' method to ensure that any changes made\n",
    "# are permanently written in the database."
   ]
  },
  {
   "cell_type": "code",
   "execution_count": 7,
   "id": "adca432e-82d6-4249-bf78-77fbac7992b3",
   "metadata": {},
   "outputs": [],
   "source": [
    "# Use the cursor object to execute an INSERT SQL statement\n",
    "cur.execute(\"\"\"\n",
    "    INSERT INTO Users (name, email) VALUES \n",
    "    ('John Doe', 'john@example.com'),\n",
    "    ('Jane Doe', 'jane@example.com'),\n",
    "    ('Bill Smith', 'bill@example.com')\n",
    "\"\"\")\n",
    "# This SQL command starts a transaction and executes the INSERT statement\n",
    "# The command inserts three rows of data into the 'Users' table\n",
    "\n",
    "conn.commit()\n",
    "# The 'commit' command will confirm the transaction, making the changes to data permanent\n",
    "# Always call 'commit' after making any changes to ensure they get persisted to the DB"
   ]
  },
  {
   "cell_type": "markdown",
   "id": "b0739a94-0082-432c-ae97-f61cc9024470",
   "metadata": {},
   "source": [
    "## Retrieve data from an SQL statement"
   ]
  },
  {
   "cell_type": "code",
   "execution_count": 8,
   "id": "61bc2a97-4183-4ac9-9278-5a6d00aadbe6",
   "metadata": {},
   "outputs": [
    {
     "name": "stdout",
     "output_type": "stream",
     "text": [
      "('john@example.com', 'John Doe')\n",
      "('jane@example.com', 'Jane Doe')\n",
      "('bill@example.com', 'Bill Smith')\n"
     ]
    }
   ],
   "source": [
    "# Use the cursor object to execute a SELECT SQL statement\n",
    "cur.execute(\"SELECT * FROM Users\") \n",
    "# The SELECT statement is used to fetch data from the database.\n",
    "# It doesn't modify data, so there's no need to commit after a SELECT statement.\n",
    "\n",
    "# Fetch one rows from the result set using the \"fetchone\" method\n",
    "# The fetchone method retrieves the next row of a query result set and returns a single sequence, or None if no more row is available.\n",
    "row = cur.fetchone()\n",
    "\n",
    "# while there are rows left to be fetched\n",
    "while row is not None:\n",
    "    print(row)  # print the current row\n",
    "    row = cur.fetchone()  # fetch the next row\n"
   ]
  },
  {
   "cell_type": "code",
   "execution_count": 9,
   "id": "a63632ff-77aa-49d1-b899-f53b35343e81",
   "metadata": {},
   "outputs": [
    {
     "name": "stdout",
     "output_type": "stream",
     "text": [
      "('john@example.com', 'John Doe')\n",
      "('jane@example.com', 'Jane Doe')\n",
      "('bill@example.com', 'Bill Smith')\n"
     ]
    }
   ],
   "source": [
    "# Execute the query using the cursor object\n",
    "cur.execute(\"SELECT * FROM Users\")\n",
    "\n",
    "# Fetch all rows from the query\n",
    "rows = cur.fetchall()\n",
    "\n",
    "# Iterate over each row and print it\n",
    "for row in rows:\n",
    "    print(row)"
   ]
  },
  {
   "cell_type": "code",
   "execution_count": 10,
   "id": "0ec2e164-e618-4d8b-91f4-ae0b26fac949",
   "metadata": {},
   "outputs": [],
   "source": [
    "# Refactor it as a function for easy use in the future.\n",
    "def getAllUser():\n",
    "    cur.execute(\"SELECT * FROM Users\")\n",
    "    return cur.fetchall()"
   ]
  },
  {
   "cell_type": "code",
   "execution_count": 11,
   "id": "a9a77f07-76a6-41d5-bb05-043c866195b6",
   "metadata": {},
   "outputs": [
    {
     "data": {
      "text/plain": [
       "[('john@example.com', 'John Doe'),\n",
       " ('jane@example.com', 'Jane Doe'),\n",
       " ('bill@example.com', 'Bill Smith')]"
      ]
     },
     "execution_count": 11,
     "metadata": {},
     "output_type": "execute_result"
    }
   ],
   "source": [
    "getAllUser()"
   ]
  },
  {
   "cell_type": "markdown",
   "id": "58dd6989-ed5c-4ff7-a9a1-b761a527a46f",
   "metadata": {},
   "source": [
    "## Pass variable to SQL statement."
   ]
  },
  {
   "cell_type": "code",
   "execution_count": 12,
   "id": "7ae88ef9-3c16-493b-b77a-05a3abf85a16",
   "metadata": {},
   "outputs": [
    {
     "data": {
      "text/plain": [
       "[('jane@example.com', 'Jane Doe')]"
      ]
     },
     "execution_count": 12,
     "metadata": {},
     "output_type": "execute_result"
    }
   ],
   "source": [
    "# If you want more complex sql \n",
    "cur.execute(\"SELECT * FROM Users WHERE email='jane@example.com' \")\n",
    "# Fetch all rows from the result set\n",
    "cur.fetchall()"
   ]
  },
  {
   "cell_type": "code",
   "execution_count": 13,
   "id": "9cd6f8b9-95a8-42a5-b1dd-bad7f90717af",
   "metadata": {},
   "outputs": [],
   "source": [
    "def getUserByemail(email):\n",
    "    # Using a parameterized query with %s as placeholder for email\n",
    "    cur.execute(\"SELECT * FROM Users WHERE email = %s\", (email,))\n",
    "    return cur.fetchall()"
   ]
  },
  {
   "cell_type": "code",
   "execution_count": 14,
   "id": "820351df-4cb8-4096-a59f-a152362d036d",
   "metadata": {},
   "outputs": [
    {
     "data": {
      "text/plain": [
       "[('jane@example.com', 'Jane Doe')]"
      ]
     },
     "execution_count": 14,
     "metadata": {},
     "output_type": "execute_result"
    }
   ],
   "source": [
    "getUserByemail(\"jane@example.com\")"
   ]
  },
  {
   "cell_type": "code",
   "execution_count": 15,
   "id": "e375d1c6-763b-4259-9696-f7a9eddcd56d",
   "metadata": {},
   "outputs": [],
   "source": [
    "def createUser(name, email):\n",
    "    cur.execute(\"\"\"\n",
    "         INSERT INTO Users (name, email) \n",
    "         VALUES (%s, %s)\n",
    "         \"\"\",\n",
    "         (name, email)\n",
    "    )\n",
    "    conn.commit()"
   ]
  },
  {
   "cell_type": "code",
   "execution_count": 16,
   "id": "ebae25da-e3d7-4c55-8eab-b6334045490c",
   "metadata": {},
   "outputs": [],
   "source": [
    "createUser(\"testFunction\", \"test@test.com\")"
   ]
  },
  {
   "cell_type": "markdown",
   "id": "3e4312e2-5965-47b7-a5e9-49f419fbbc6d",
   "metadata": {},
   "source": [
    "## Excercie\n",
    "- Create a function deleteUser(email)\n",
    "- Create a function updateUserByEmail(email, name)"
   ]
  },
  {
   "cell_type": "markdown",
   "id": "095b543a-719b-488f-b31f-11034a965b00",
   "metadata": {},
   "source": [
    "# Refacter code "
   ]
  },
  {
   "cell_type": "code",
   "execution_count": 17,
   "id": "bdda6bdc-0131-4370-8eaf-3317deec5d7c",
   "metadata": {},
   "outputs": [],
   "source": [
    "class UserDB():\n",
    "    def __init__(self, conn):\n",
    "        self.conn = conn\n",
    "        self.cur = conn.cursor()\n",
    " \n",
    "    def getAllUser(self):\n",
    "        self.cur.execute(\"SELECT * FROM Users\")\n",
    "        return self.cur.fetchall()\n",
    "\n",
    "    def getUserByemail(self, email):\n",
    "        self.cur.execute(\"SELECT * FROM Users WHERE email = %s\", (email,))\n",
    "        return self.cur.fetchall()\n",
    "        \n",
    "    def createUser(self, name, email):\n",
    "        self.cur.execute(\"\"\"\n",
    "             INSERT INTO Users (name, email) \n",
    "             VALUES (%s, %s)\n",
    "             \"\"\",\n",
    "             (name, email)\n",
    "        )\n",
    "        self.conn.commit()"
   ]
  },
  {
   "cell_type": "code",
   "execution_count": 18,
   "id": "661eec40-788e-4b65-ac84-bb230845059b",
   "metadata": {},
   "outputs": [],
   "source": [
    "userDB = UserDB(conn)"
   ]
  },
  {
   "cell_type": "code",
   "execution_count": 19,
   "id": "5c2982e9-1ccf-40ea-b633-329db31ac1b9",
   "metadata": {},
   "outputs": [
    {
     "data": {
      "text/plain": [
       "[('john@example.com', 'John Doe'),\n",
       " ('jane@example.com', 'Jane Doe'),\n",
       " ('bill@example.com', 'Bill Smith'),\n",
       " ('test@test.com', 'testFunction')]"
      ]
     },
     "execution_count": 19,
     "metadata": {},
     "output_type": "execute_result"
    }
   ],
   "source": [
    "userDB.getAllUser()"
   ]
  },
  {
   "cell_type": "code",
   "execution_count": 20,
   "id": "f6a2a201-1948-45b6-a0bc-051ef4d62163",
   "metadata": {},
   "outputs": [],
   "source": [
    "userDB.createUser(\"nameFromClass\", \"email@class.com\")"
   ]
  },
  {
   "cell_type": "code",
   "execution_count": 21,
   "id": "68b3b26a-233c-492f-9b49-102406cbbd38",
   "metadata": {},
   "outputs": [
    {
     "data": {
      "text/plain": [
       "[('john@example.com', 'John Doe'),\n",
       " ('jane@example.com', 'Jane Doe'),\n",
       " ('bill@example.com', 'Bill Smith'),\n",
       " ('test@test.com', 'testFunction'),\n",
       " ('email@class.com', 'nameFromClass')]"
      ]
     },
     "execution_count": 21,
     "metadata": {},
     "output_type": "execute_result"
    }
   ],
   "source": [
    "userDB.getAllUser()"
   ]
  },
  {
   "cell_type": "markdown",
   "id": "a64c99d4-d889-475b-aa96-9df636c85c04",
   "metadata": {},
   "source": [
    "## Exercise \n",
    "- Add a `deleteUser(email)` method\n",
    "- Add an `updateUserByEmail(email, name)` method."
   ]
  },
  {
   "cell_type": "markdown",
   "id": "53d30017-5e92-4f1c-9c96-dae386a2ff6a",
   "metadata": {},
   "source": [
    "# Get to know the JSON format.\n",
    "   In short, JSON is similar to a dictionary or a list of dictionaries in Python, but it is represented as a string encoding."
   ]
  },
  {
   "cell_type": "code",
   "execution_count": 22,
   "id": "75056222-3073-49bd-88f3-18d8bc89218f",
   "metadata": {},
   "outputs": [],
   "source": [
    "import json"
   ]
  },
  {
   "cell_type": "code",
   "execution_count": 23,
   "id": "58d24937-8ea3-484f-98ab-4bda1c49787e",
   "metadata": {},
   "outputs": [
    {
     "name": "stdout",
     "output_type": "stream",
     "text": [
      "<class 'dict'>\n",
      "{'name': 'Tendon', 'email': 'tendon@example.com'}\n"
     ]
    }
   ],
   "source": [
    "# A multi-line string containing JSON data.\n",
    "json_data = \"\"\"\n",
    "{\n",
    "    \"name\": \"Tendon\",\n",
    "    \"email\": \"tendon@example.com\"\n",
    "}\n",
    "\"\"\"\n",
    "\n",
    "# Convert the JSON string into Python dictionary using json.loads() function\n",
    "dict_data = json.loads(json_data)\n",
    "\n",
    "# Print the type of dict_data\n",
    "print(type(dict_data))  # <class 'dict'>\n",
    "\n",
    "# Print the content of dict_data\n",
    "print(dict_data)  # {'name': 'Tendon', 'email': 'tendon@example.com'}"
   ]
  },
  {
   "cell_type": "code",
   "execution_count": 24,
   "id": "0becbd68-4e2a-4343-816f-d7239f0df70b",
   "metadata": {},
   "outputs": [
    {
     "name": "stdout",
     "output_type": "stream",
     "text": [
      "<class 'list'>\n",
      "[{'name': 'Tendon', 'email': 'tendon@example.com'}, {'name': 'Tonten', 'email': 'tonten@example.com'}]\n"
     ]
    }
   ],
   "source": [
    "json_data = \"\"\"\n",
    "[\n",
    "    {\n",
    "        \"name\": \"Tendon\",\n",
    "        \"email\": \"tendon@example.com\"\n",
    "    },\n",
    "    {\n",
    "        \"name\": \"Tonten\",\n",
    "        \"email\": \"tonten@example.com\"\n",
    "    }\n",
    "]\n",
    "\"\"\"\n",
    "\n",
    "# Convert the JSON string into a Python List of dictionaries using json.loads() function\n",
    "dict_data = json.loads(json_data)\n",
    "\n",
    "# Print the type of dict_data\n",
    "print(type(dict_data))  #  <class 'list'>\n",
    "\n",
    "# Print the content of dict_data\n",
    "print(dict_data)  # [{'name': 'Tendon', 'email': 'tendon@example.com'}, {'name': 'Tonten', 'email': 'tonten@example.com'}]"
   ]
  },
  {
   "cell_type": "code",
   "execution_count": 25,
   "id": "466d6a13-4aa6-4a7e-9a81-1036de81fb6e",
   "metadata": {},
   "outputs": [
    {
     "name": "stdout",
     "output_type": "stream",
     "text": [
      "<class 'str'>\n",
      "{\"name\": \"Tendon\", \"email\": \"tendon@example.com\"}\n"
     ]
    }
   ],
   "source": [
    "# A dictionary that contains user data\n",
    "dict_data = {\n",
    "    'name': 'Tendon', \n",
    "    'email': 'tendon@example.com'\n",
    "}\n",
    "\n",
    "# Convert the Python dictionary to a JSON string using json.dumps() function\n",
    "json_data = json.dumps(dict_data)\n",
    "\n",
    "# Print the type of json_data\n",
    "print(type(json_data))  # <class 'str'>\n",
    "\n",
    "# Print the content of json_data\n",
    "print(json_data)  # {\"name\": \"Tendon\", \"email\": \"tendon@example.com\"}"
   ]
  },
  {
   "cell_type": "code",
   "execution_count": 26,
   "id": "7af5ca90-eeb7-4c08-a537-e6f95d4f3c87",
   "metadata": {},
   "outputs": [
    {
     "name": "stdout",
     "output_type": "stream",
     "text": [
      "<class 'str'>\n",
      "[{\"name\": \"Tendon\", \"email\": \"tendon@example.com\"}, {\"name\": \"Tonten\", \"email\": \"tonten@example.com\"}]\n"
     ]
    }
   ],
   "source": [
    "dict_data = [\n",
    "    {\n",
    "        \"name\": \"Tendon\",\n",
    "        \"email\": \"tendon@example.com\"\n",
    "    },\n",
    "    {\n",
    "        \"name\": \"Tonten\",\n",
    "        \"email\": \"tonten@example.com\"\n",
    "    }\n",
    "]\n",
    "\n",
    "# Convert the Python list of dictionaries to a JSON string using json.dumps() function\n",
    "json_data = json.dumps(dict_data)\n",
    "\n",
    "# Print the type of json_data\n",
    "print(type(json_data))  # <class 'str'>\n",
    "\n",
    "# Print the content of json_data\n",
    "print(json_data)  # [{\"name\": \"Tendon\", \"email\": \"tendon@example.com\"}, {\"name\": \"Tonten\", \"email\": \"tonten@example.com\"}]\n"
   ]
  },
  {
   "cell_type": "code",
   "execution_count": 27,
   "id": "e03be978-81ff-4ddf-af11-bce51299258d",
   "metadata": {},
   "outputs": [
    {
     "data": {
      "text/plain": [
       "[('john@example.com', 'John Doe'),\n",
       " ('jane@example.com', 'Jane Doe'),\n",
       " ('bill@example.com', 'Bill Smith'),\n",
       " ('test@test.com', 'testFunction'),\n",
       " ('email@class.com', 'nameFromClass')]"
      ]
     },
     "execution_count": 27,
     "metadata": {},
     "output_type": "execute_result"
    }
   ],
   "source": [
    "getAllUser()"
   ]
  },
  {
   "cell_type": "code",
   "execution_count": 28,
   "id": "4b83d9ed-c550-4ab1-a97b-51de8be604c2",
   "metadata": {},
   "outputs": [],
   "source": [
    "def listOfTuple2listOfDict(users):\n",
    "    result_list = []  # Initialize an empty list to add dictionaries to\n",
    "    for user in users:\n",
    "        user_map = {\n",
    "            \"email\": user[0],  # First element of the tuple is mapped to \"email\"\n",
    "            \"name\": user[1],   # Second element of the tuple is mapped to \"name\"\n",
    "        }\n",
    "        result_list.append(user_map)  # Append the new dictionary to the list\n",
    "    return result_list  # Return the final list"
   ]
  },
  {
   "cell_type": "code",
   "execution_count": 29,
   "id": "d80c58e0-5684-4c9a-bdc1-a0eeff7522fd",
   "metadata": {},
   "outputs": [
    {
     "data": {
      "text/plain": [
       "[{'email': 'john@example.com', 'name': 'John Doe'},\n",
       " {'email': 'jane@example.com', 'name': 'Jane Doe'},\n",
       " {'email': 'bill@example.com', 'name': 'Bill Smith'},\n",
       " {'email': 'test@test.com', 'name': 'testFunction'},\n",
       " {'email': 'email@class.com', 'name': 'nameFromClass'}]"
      ]
     },
     "execution_count": 29,
     "metadata": {},
     "output_type": "execute_result"
    }
   ],
   "source": [
    "listOfTuple2listOfDict(getAllUser())"
   ]
  },
  {
   "cell_type": "code",
   "execution_count": 30,
   "id": "33138bb7-aee8-460f-8aae-8e2e93384101",
   "metadata": {},
   "outputs": [
    {
     "data": {
      "text/plain": [
       "[('jane@example.com', 'Jane Doe')]"
      ]
     },
     "execution_count": 30,
     "metadata": {},
     "output_type": "execute_result"
    }
   ],
   "source": [
    "getUserByemail('jane@example.com')"
   ]
  },
  {
   "cell_type": "code",
   "execution_count": 31,
   "id": "fb481a68-a624-4a2b-b85c-05250eaaea47",
   "metadata": {},
   "outputs": [
    {
     "data": {
      "text/plain": [
       "[{'email': 'jane@example.com', 'name': 'Jane Doe'}]"
      ]
     },
     "execution_count": 31,
     "metadata": {},
     "output_type": "execute_result"
    }
   ],
   "source": [
    "listOfTuple2listOfDict(getUserByemail('jane@example.com'))"
   ]
  },
  {
   "cell_type": "markdown",
   "id": "f46ed878-78e9-434d-ab0f-6923924b5a8e",
   "metadata": {},
   "source": [
    "# Create HTTP server"
   ]
  },
  {
   "cell_type": "code",
   "execution_count": 32,
   "id": "060eb144-5b8b-41f6-92c1-c8d61e992923",
   "metadata": {},
   "outputs": [],
   "source": [
    "from http.server import BaseHTTPRequestHandler, HTTPServer"
   ]
  },
  {
   "cell_type": "code",
   "execution_count": 33,
   "id": "c9288d8d-790a-42fe-a035-57ade5bf185d",
   "metadata": {},
   "outputs": [],
   "source": [
    "# Importing necessary modules\n",
    "import json\n",
    "from http.server import BaseHTTPRequestHandler\n",
    "# Assuming UserDB class and listOfTuple2listOfDict function have been defined\n",
    "\n",
    "class Handler(BaseHTTPRequestHandler):\n",
    "    # Initiating an instance of the UserDB class\n",
    "    userDB = userDB\n",
    "\n",
    "    def do_GET(self):\n",
    "        # Check if the requested path is '/users'\n",
    "        if self.path == '/users':\n",
    "            # Retrieve all users from the database\n",
    "            users = self.userDB.getAllUser()\n",
    "\n",
    "            # Convert the retrieved users from list of tuples to list of dicts\n",
    "            listOfDict = listOfTuple2listOfDict(users)\n",
    "\n",
    "            # Convert the list of dicts to JSON string\n",
    "            json_string = json.dumps(listOfDict)\n",
    "\n",
    "            # Sending HTTP response header with status code 200 (Success)\n",
    "            self.send_response(200)\n",
    "\n",
    "            # Indicating in the response header that the content type of the response body will be 'application/json'\n",
    "            self.send_header('Content-type', 'application/json')\n",
    "            self.end_headers()\n",
    "\n",
    "            # Write the JSON string to the response body\n",
    "            self.wfile.write(json_string.encode())\n",
    "\n",
    "    def do_POST(self):\n",
    "        # Check if the requested path is '/users'\n",
    "        if self.path == '/users':\n",
    "            # Get the length of the request body\n",
    "            content_len = int(self.headers['Content-Length'])\n",
    "\n",
    "            # Read and load the request body content which is in JSON format\n",
    "            post_body = json.loads(self.rfile.read(content_len))\n",
    "\n",
    "            try:\n",
    "                # Try to create a new user in the database\n",
    "                self.userDB.createUser(post_body['name'], post_body['email'])\n",
    "\n",
    "                # If successful, get the new user's details from the database\n",
    "                users = self.userDB.getUserByemail(post_body['email'])\n",
    "\n",
    "                # Convert the user's details to list of dict\n",
    "                listOfDict = listOfTuple2listOfDict(users)\n",
    "\n",
    "                # Convert the list of dicts to JSON string\n",
    "                json_string = json.dumps(listOfDict)\n",
    "\n",
    "                # Sending HTTP response header with status code 201 (Successfully created)\n",
    "                self.send_response(201)\n",
    "\n",
    "                # Indicating in the response header that the content type of the response body will be 'application/json'\n",
    "                self.send_header('Content-type', 'application/json')\n",
    "                self.end_headers()\n",
    "\n",
    "                # Write the JSON data to the response body\n",
    "                self.wfile.write(json_string.encode())\n",
    "\n",
    "            except:\n",
    "                # If there's a problem like the email already exists, it will throw an exception\n",
    "\n",
    "                # Sending HTTP response header with status code 500 (Server error)\n",
    "                self.send_response(500)\n",
    "\n",
    "                # Indicating in the response header that the content type of the response body will be 'application/json'\n",
    "                self.send_header('Content-type', 'application/json')\n",
    "                self.end_headers()\n",
    "\n",
    "                # Preparing the error message in JSON format\n",
    "                error_json = json.dumps({\"error\": \"may email already exit\"})\n",
    "\n",
    "                # Write the error message to the response body\n",
    "                self.wfile.write(error_json.encode())\n",
    "\n",
    "\n",
    "\n",
    "    def do_PUT(self):\n",
    "        pass\n",
    "\n",
    "    def do_DELETE(self):\n",
    "        pass"
   ]
  },
  {
   "cell_type": "code",
   "execution_count": null,
   "id": "1ae9e94d-cead-4b74-b7cc-a217334fcd8a",
   "metadata": {},
   "outputs": [
    {
     "name": "stderr",
     "output_type": "stream",
     "text": [
      "127.0.0.1 - - [25/Oct/2023 13:40:52] \"GET /users HTTP/1.1\" 200 -\n",
      "127.0.0.1 - - [25/Oct/2023 13:40:52] \"POST /users HTTP/1.1\" 201 -\n"
     ]
    }
   ],
   "source": [
    "httpd = HTTPServer(('0.0.0.0', 8000), Handler)\n",
    "httpd.serve_forever()"
   ]
  },
  {
   "cell_type": "markdown",
   "id": "17cd26f5-57f0-43aa-bb97-ed27346ad439",
   "metadata": {},
   "source": [
    "### Exercise: \n",
    "- Create a PUT API for users (update user based on email)\n",
    "- Create a DELETE API for users (delete user based on email)."
   ]
  },
  {
   "cell_type": "code",
   "execution_count": null,
   "id": "b5b8e715-dc5d-4dcd-b59f-856ae2ddf611",
   "metadata": {},
   "outputs": [],
   "source": []
  }
 ],
 "metadata": {
  "kernelspec": {
   "display_name": "Python 3 (ipykernel)",
   "language": "python",
   "name": "python3"
  },
  "language_info": {
   "codemirror_mode": {
    "name": "ipython",
    "version": 3
   },
   "file_extension": ".py",
   "mimetype": "text/x-python",
   "name": "python",
   "nbconvert_exporter": "python",
   "pygments_lexer": "ipython3",
   "version": "3.11.6"
  }
 },
 "nbformat": 4,
 "nbformat_minor": 5
}
