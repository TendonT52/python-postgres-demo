{
 "cells": [
  {
   "cell_type": "code",
   "execution_count": 1,
   "id": "2741615a-c6f1-42fa-9dd6-80c67e1371de",
   "metadata": {},
   "outputs": [],
   "source": [
    "import requests"
   ]
  },
  {
   "cell_type": "code",
   "execution_count": 2,
   "id": "3da92c6e-8708-4c5c-8668-f5b99d13968c",
   "metadata": {},
   "outputs": [
    {
     "data": {
      "text/plain": [
       "[{'name': 'Lowell Jacobs', 'id': '1'},\n",
       " {'name': 'Ms. Alyssa Gislason III', 'id': '2'},\n",
       " {'name': 'Angelica Rolfson', 'id': '3'},\n",
       " {'name': 'Tendon', 'id': '4', 'email': 'tendon@example.com'},\n",
       " {'name': 'Tendon', 'id': '5', 'email': 'tendon@example.com'},\n",
       " {'name': 'Tendon', 'id': '6', 'email': 'tendon@example.com'}]"
      ]
     },
     "execution_count": 2,
     "metadata": {},
     "output_type": "execute_result"
    }
   ],
   "source": [
    "# api_url = \"https://censor.mockapi.io/users\"\n",
    "# response = requests.get(api_url)\n",
    "# response.json()"
   ]
  },
  {
   "cell_type": "code",
   "execution_count": 3,
   "id": "7338902a-ed6a-459a-8f38-4a7347a5d7e6",
   "metadata": {},
   "outputs": [
    {
     "data": {
      "text/plain": [
       "{'name': 'Tendon', 'id': '7', 'email': 'tendon@example.com'}"
      ]
     },
     "execution_count": 3,
     "metadata": {},
     "output_type": "execute_result"
    }
   ],
   "source": [
    "# api_url = \"https://censor.mockapi.io/users\"\n",
    "# data = {\n",
    "#     \"name\": \"Tendon\",\n",
    "#     \"email\": \"tendon@example.com\"\n",
    "# }\n",
    "# response = requests.post(api_url, json=data)\n",
    "# response.json()"
   ]
  },
  {
   "cell_type": "code",
   "execution_count": 4,
   "id": "3ef2f1e8-bd44-4da6-b83a-b06ce8573ad7",
   "metadata": {},
   "outputs": [
    {
     "data": {
      "text/plain": [
       "[{'email': 'john@example.com', 'name': 'John Doe'},\n",
       " {'email': 'jane@example.com', 'name': 'Jane Doe'},\n",
       " {'email': 'bill@example.com', 'name': 'Bill Smith'},\n",
       " {'email': 'test@test.com', 'name': 'testFunction'},\n",
       " {'email': 'email@class.com', 'name': 'nameFromClass'}]"
      ]
     },
     "execution_count": 4,
     "metadata": {},
     "output_type": "execute_result"
    }
   ],
   "source": [
    "api_url = \"http://localhost:8000/users\"\n",
    "response = requests.get(api_url)\n",
    "response.json()"
   ]
  },
  {
   "cell_type": "code",
   "execution_count": 5,
   "id": "0f416d5e-abcd-453f-b1a8-7f5139ed1373",
   "metadata": {},
   "outputs": [
    {
     "data": {
      "text/plain": [
       "[{'email': 'tendon@example.com', 'name': 'Tendon'}]"
      ]
     },
     "execution_count": 5,
     "metadata": {},
     "output_type": "execute_result"
    }
   ],
   "source": [
    "api_url = \"http://localhost:8000/users\"\n",
    "data = {\n",
    "    'name': 'Tendon',\n",
    "    'email': 'tendon@example.com'\n",
    "}\n",
    "response = requests.post(api_url, json=data)\n",
    "response.json()"
   ]
  },
  {
   "cell_type": "code",
   "execution_count": 6,
   "id": "e83b9870-ce14-4e3b-a365-aad8491905bc",
   "metadata": {},
   "outputs": [],
   "source": [
    "# api_url = \"http://localhost:8000/users\"\n",
    "# data = {\n",
    "#     'name': 'TendonUpdate',\n",
    "#     'email': 'tendon@example.com'\n",
    "# }\n",
    "# response = requests.put(api_url, json=data)\n",
    "# response.json()"
   ]
  },
  {
   "cell_type": "code",
   "execution_count": 7,
   "id": "c22dcf32-a0f2-46cc-8d37-64014af0ed76",
   "metadata": {},
   "outputs": [],
   "source": [
    "# api_url = \"http://localhost:8000/users\"\n",
    "# data = {\n",
    "#     'name': 'TendonUpdate',\n",
    "#     'email': 'tendon@example.com'\n",
    "# }\n",
    "# response = requests.delete(api_url, json=data)\n",
    "# response.json()"
   ]
  },
  {
   "cell_type": "code",
   "execution_count": null,
   "id": "721540f5-efb8-4027-9178-732a9265e9bb",
   "metadata": {},
   "outputs": [],
   "source": []
  }
 ],
 "metadata": {
  "kernelspec": {
   "display_name": "Python 3 (ipykernel)",
   "language": "python",
   "name": "python3"
  },
  "language_info": {
   "codemirror_mode": {
    "name": "ipython",
    "version": 3
   },
   "file_extension": ".py",
   "mimetype": "text/x-python",
   "name": "python",
   "nbconvert_exporter": "python",
   "pygments_lexer": "ipython3",
   "version": "3.11.6"
  }
 },
 "nbformat": 4,
 "nbformat_minor": 5
}
